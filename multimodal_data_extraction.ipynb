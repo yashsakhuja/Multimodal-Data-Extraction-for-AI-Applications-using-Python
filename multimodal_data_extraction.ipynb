{
 "cells": [
  {
   "cell_type": "markdown",
   "metadata": {},
   "source": [
    "#### 1. YT Video Downloading"
   ]
  },
  {
   "cell_type": "code",
   "execution_count": 14,
   "metadata": {},
   "outputs": [],
   "source": [
    "from pathlib import Path\n",
    "import os\n",
    "\n",
    "# SET CONFIG\n",
    "video_url = \"https://youtu.be/1aA1WGON49E?feature=shared\"\n",
    "output_video_path = \"./video_data/\"\n",
    "output_folder = \"./mixed_data/\"\n",
    "output_frames_path = os.makedirs(\"./mixed_data/frames/\", exist_ok=True) or \"./mixed_data/frames/\"\n",
    "output_audio_path = \"./mixed_data/output_audio.wav\"\n",
    "\n",
    "filepath = output_video_path + \"trimmed_vid.mp4\"\n",
    "Path(output_folder).mkdir(parents=True, exist_ok=True)"
   ]
  },
  {
   "cell_type": "code",
   "execution_count": 15,
   "metadata": {},
   "outputs": [],
   "source": [
    "import yt_dlp\n",
    "import subprocess\n",
    "\n",
    "def download_video(url, output_path, start_time=11):\n",
    "    \"\"\"\n",
    "    Download a video from a given URL using yt-dlp, trim it from a specific start time, and save it.\n",
    "\n",
    "    Parameters:\n",
    "    url (str): The URL of the video to download.\n",
    "    output_path (str): The path to save the video.\n",
    "    start_time (int): The start time in seconds (default: 34s).\n",
    "\n",
    "    Returns:\n",
    "    dict: Metadata of the downloaded video.\n",
    "    \"\"\"\n",
    "    video_path = f\"{output_path}/input_vid.mp4\"\n",
    "    trimmed_path = f\"{output_path}/trimmed_vid.mp4\"\n",
    "\n",
    "    ydl_opts = {\n",
    "        'format': 'bestvideo+bestaudio/best',\n",
    "        'outtmpl': video_path,\n",
    "        'merge_output_format': 'mp4',\n",
    "    }\n",
    "\n",
    "    with yt_dlp.YoutubeDL(ydl_opts) as ydl:\n",
    "        info_dict = ydl.extract_info(url, download=True)\n",
    "    \n",
    "    # Trim the video from start_time onwards\n",
    "    ffmpeg_cmd = [\n",
    "        \"ffmpeg\", \"-y\", \"-i\", video_path,  # Input video\n",
    "        \"-ss\", str(start_time),  # Start at 34 seconds\n",
    "        \"-c\", \"copy\", trimmed_path  # Copy streams without re-encoding\n",
    "    ]\n",
    "    subprocess.run(ffmpeg_cmd, check=True)\n",
    "\n",
    "    metadata = {\n",
    "        \"Author\": info_dict.get(\"uploader\", \"Unknown\"),\n",
    "        \"Title\": info_dict.get(\"title\", \"Unknown\"),\n",
    "        \"Views\": info_dict.get(\"view_count\", 0),\n",
    "        \"Trimmed Video\": trimmed_path\n",
    "    }\n",
    "\n",
    "    return metadata\n"
   ]
  },
  {
   "cell_type": "code",
   "execution_count": 16,
   "metadata": {},
   "outputs": [
    {
     "name": "stdout",
     "output_type": "stream",
     "text": [
      "[youtube] Extracting URL: https://youtu.be/1aA1WGON49E?feature=shared\n",
      "[youtube] 1aA1WGON49E: Downloading webpage\n",
      "[youtube] 1aA1WGON49E: Downloading tv client config\n",
      "[youtube] 1aA1WGON49E: Downloading player 69f581a5\n",
      "[youtube] 1aA1WGON49E: Downloading tv player API JSON\n",
      "[youtube] 1aA1WGON49E: Downloading ios player API JSON\n",
      "[youtube] 1aA1WGON49E: Downloading m3u8 information\n",
      "[info] 1aA1WGON49E: Downloading 1 format(s): 399+251\n",
      "[download] Destination: video_data\\input_vid.f399.mp4\n",
      "[download] 100% of    5.29MiB in 00:00:00 at 9.38MiB/s   \n",
      "[download] Destination: video_data\\input_vid.f251.webm\n",
      "[download] 100% of    1.02MiB in 00:00:00 at 3.42MiB/s   \n",
      "[Merger] Merging formats into \"video_data\\input_vid.mp4\"\n",
      "Deleting original file video_data\\input_vid.f399.mp4 (pass -k to keep)\n",
      "Deleting original file video_data\\input_vid.f251.webm (pass -k to keep)\n"
     ]
    }
   ],
   "source": [
    "metadata_vid = download_video(video_url, output_video_path)"
   ]
  },
  {
   "cell_type": "code",
   "execution_count": 17,
   "metadata": {},
   "outputs": [
    {
     "name": "stdout",
     "output_type": "stream",
     "text": [
      "{'Author': 'TEDx Talks', 'Title': 'A one minute TEDx Talk for the digital age | Woody Roseland | TEDxMileHigh', 'Views': 298236, 'Trimmed Video': './video_data//trimmed_vid.mp4'}\n"
     ]
    }
   ],
   "source": [
    "print(metadata_vid)"
   ]
  },
  {
   "cell_type": "markdown",
   "metadata": {},
   "source": [
    "#### 2. Video to Audio"
   ]
  },
  {
   "cell_type": "code",
   "execution_count": 18,
   "metadata": {},
   "outputs": [],
   "source": [
    "from moviepy import VideoFileClip\n",
    "def video_to_audio(video_path, output_audio_path):\n",
    "    \"\"\"\n",
    "    Convert a video to audio and save it to the output path.\n",
    "\n",
    "    Parameters:\n",
    "    video_path (str): The path to the video file.\n",
    "    output_audio_path (str): The path to save the audio to.\n",
    "\n",
    "    \"\"\"\n",
    "    clip = VideoFileClip(video_path)\n",
    "    audio = clip.audio\n",
    "    audio.write_audiofile(output_audio_path)"
   ]
  },
  {
   "cell_type": "code",
   "execution_count": 19,
   "metadata": {},
   "outputs": [
    {
     "name": "stdout",
     "output_type": "stream",
     "text": [
      "{'video_found': True, 'audio_found': True, 'metadata': {'major_brand': 'isom', 'minor_version': '512', 'compatible_brands': 'isomav01iso2mp41', 'encoder': 'Lavf61.9.104'}, 'inputs': [{'streams': [{'input_number': 0, 'stream_number': 0, 'stream_type': 'video', 'language': None, 'default': True, 'size': [1920, 1080], 'bitrate': 582, 'fps': 23.976023976023978, 'codec_name': 'av1', 'profile': '(libaom-av1)', 'metadata': {'Metadata': '', 'handler_name': 'ISO Media file produced by Google Inc.', 'vendor_id': '[0][0][0][0]'}}, {'input_number': 0, 'stream_number': 1, 'stream_type': 'audio', 'language': 'eng', 'default': True, 'fps': 48000, 'bitrate': 99, 'metadata': {'Metadata': '', 'handler_name': 'SoundHandler', 'vendor_id': '[0][0][0][0]'}}], 'input_number': 0}], 'duration': 69.78, 'bitrate': 685, 'start': 0.001, 'default_video_input_number': 0, 'default_video_stream_number': 0, 'video_codec_name': 'av1', 'video_profile': '(libaom-av1)', 'video_size': [1920, 1080], 'video_bitrate': 582, 'video_fps': 23.976023976023978, 'default_audio_input_number': 0, 'default_audio_stream_number': 1, 'audio_fps': 48000, 'audio_bitrate': 99, 'video_duration': 69.78, 'video_n_frames': 1673}\n",
      "c:\\Users\\yashs\\OneDrive\\Desktop\\Table Topics App\\.venv\\Lib\\site-packages\\imageio_ffmpeg\\binaries\\ffmpeg-win-x86_64-v7.1.exe -i ./video_data/trimmed_vid.mp4 -loglevel error -f image2pipe -vf scale=1920:1080 -sws_flags bicubic -pix_fmt rgb24 -vcodec rawvideo -\n",
      "MoviePy - Writing audio in ./mixed_data/output_audio.wav\n"
     ]
    },
    {
     "name": "stderr",
     "output_type": "stream",
     "text": [
      "                                                                      "
     ]
    },
    {
     "name": "stdout",
     "output_type": "stream",
     "text": [
      "MoviePy - Done.\n"
     ]
    },
    {
     "name": "stderr",
     "output_type": "stream",
     "text": [
      "\r"
     ]
    }
   ],
   "source": [
    "video_to_audio(filepath, output_audio_path)"
   ]
  },
  {
   "cell_type": "markdown",
   "metadata": {},
   "source": [
    "#### 3. Transcribing with OpenAI Whisper"
   ]
  },
  {
   "cell_type": "code",
   "execution_count": 20,
   "metadata": {},
   "outputs": [
    {
     "name": "stderr",
     "output_type": "stream",
     "text": [
      "c:\\Users\\yashs\\OneDrive\\Desktop\\Table Topics App\\.venv\\Lib\\site-packages\\tqdm\\auto.py:21: TqdmWarning: IProgress not found. Please update jupyter and ipywidgets. See https://ipywidgets.readthedocs.io/en/stable/user_install.html\n",
      "  from .autonotebook import tqdm as notebook_tqdm\n"
     ]
    }
   ],
   "source": [
    "from transformers import pipeline"
   ]
  },
  {
   "cell_type": "code",
   "execution_count": 21,
   "metadata": {},
   "outputs": [
    {
     "name": "stdout",
     "output_type": "stream",
     "text": [
      "2.6.0+cu118\n",
      "True\n"
     ]
    }
   ],
   "source": [
    "import torch\n",
    "print(torch. __version__ )\n",
    "print(torch.cuda.is_available())"
   ]
  },
  {
   "cell_type": "code",
   "execution_count": 23,
   "metadata": {},
   "outputs": [
    {
     "name": "stderr",
     "output_type": "stream",
     "text": [
      "Device set to use cuda:0\n"
     ]
    }
   ],
   "source": [
    "whisper = pipeline(\"automatic-speech-recognition\", model='openai/whisper-large', device=0)"
   ]
  },
  {
   "cell_type": "code",
   "execution_count": 25,
   "metadata": {},
   "outputs": [
    {
     "name": "stderr",
     "output_type": "stream",
     "text": [
      "Whisper did not predict an ending timestamp, which can happen if audio is cut off in the middle of a word. Also make sure WhisperTimeStampLogitsProcessor was used during generation.\n"
     ]
    }
   ],
   "source": [
    "text = whisper('mixed_data/output_audio.wav',return_timestamps=True,generate_kwargs={'language':'en','task':'transcribe'})"
   ]
  },
  {
   "cell_type": "code",
   "execution_count": 27,
   "metadata": {},
   "outputs": [],
   "source": [
    "with open(output_folder + \"output_text.txt\", \"w\", encoding=\"utf-8\") as file:\n",
    "    file.write(text['text'])"
   ]
  },
  {
   "cell_type": "code",
   "execution_count": 28,
   "metadata": {},
   "outputs": [],
   "source": [
    "# Save the entire dictionary as a JSON file\n",
    "import json\n",
    "with open(output_folder + \"output_data.json\", \"w\", encoding=\"utf-8\") as json_file:\n",
    "    json.dump(text, json_file, ensure_ascii=False, indent=4)"
   ]
  },
  {
   "cell_type": "code",
   "execution_count": 46,
   "metadata": {},
   "outputs": [
    {
     "data": {
      "text/plain": [
       "\" Life will sometimes feel like a fight. The punches, jabs, and hooks will come in the form of challenges, obstacles, and failures. But if you stay in the ring and learn from those past fights, at the end of each round, you'll be still standing. Mr. Contest Chair, fellow fighters, can you think of a time when life tried to knock you down? Who was your toughest opponent? Most often, our most challenging opponent is ourselves. Round one, college. I dropped out of college not one, not two, not three, but four times. I told myself college isn't for me and I would never go back. Round two, marriage. I married my soul mate, the love of my life, my best friend. He was fine too. We were married for eight long, beautiful, amazing months. You heard right, months, not years. It was like immediately after we said I do, the heavyweight champion came in and delivered an electrifying knockout blow to our vows. Boom! Round three, speaking. In 2015, I competed for the first time in the international speech contest. I won at the club level, I won at the area level, I won at the division level, then the district level was on the way. I was on the road. I was on fire. I was unstoppable. I lost. I was crushed. After going three rounds and taking hit after hit, I was ready to throw in the towel. I was down for the count. Six, seven, eight. When was the last time life knocked you down? Who was that lifeline that you reached out to, to help you stand back up? Was it your family? Your friends? Or did you hold on to your faith? Maybe you've never been knocked down, but you've seen one of your family members take a devastating blow. Were you the lifeline that they were reaching out to to help them stand back up. Were you the coach in the corner saying, get up, get up, stand up? As I gathered all the strength within myself to pick myself back up, stand. And instead of looking into a mirror of defeat, it became a window of possibilities. I got back in the ring. I went back to college. I got my degree, and I graduated magna cum laude. Yeah. After failing four times, I was still standing. After my loss at the district level, I'm speaking to you from the world championship stage. It's a moment. Thank you. Thank you. Even after suffering loss, I'm still standing. As for my marriage, I'm still in training. I have not yet found Mr. Right, but this is an international convention. And there are thousands of men from hundreds of different countries, so single toastmasters, Even after my divorce, I'm still standing. My challenge to you is to stay in the ring, whether you're a fighter or a coach. If you're on the side of the ring coaching, or if you're in that ring throwing those jabs and those hooks, when that final bell rings, ding, ding, ding, the fighters and the coaches will raise their hands in victory singing, I'm still standing, yeah, yeah, yeah. We're still standing. Standing. Very nice. Stay in that ring. And even after you take a few hits, use what you learned from those previous fights. And at the end of each round, you'll remain still standing. Mr. Contrerashock. Thank you. Thank you. Thank you.\""
      ]
     },
     "execution_count": 46,
     "metadata": {},
     "output_type": "execute_result"
    }
   ],
   "source": [
    "text['text']"
   ]
  },
  {
   "cell_type": "markdown",
   "metadata": {},
   "source": [
    "#### 4. Video to Image Frames"
   ]
  },
  {
   "cell_type": "code",
   "execution_count": 29,
   "metadata": {},
   "outputs": [
    {
     "name": "stdout",
     "output_type": "stream",
     "text": [
      "Frames saved to frames\n"
     ]
    }
   ],
   "source": [
    "import os\n",
    "import subprocess\n",
    "\n",
    "def video_to_images_ffmpeg(video_path, output_folder, fps=30):\n",
    "    os.makedirs(output_folder, exist_ok=True)\n",
    "    \n",
    "    # FFmpeg command for extracting frames with GPU acceleration\n",
    "    ffmpeg_cmd = [\n",
    "        'ffmpeg',\n",
    "        '-hwaccel', 'auto',  # Use GPU for decoding\n",
    "        '-i', video_path,    # Input video path\n",
    "        '-vf', f'fps={fps}', # Set frames per second\n",
    "        os.path.join(output_frames_path, 'frame%04d.png')  # Output file pattern\n",
    "    ]\n",
    "    \n",
    "    # Execute FFmpeg command\n",
    "    subprocess.run(ffmpeg_cmd, check=True)\n",
    "    \n",
    "    print(f\"Frames saved to {output_folder}\")\n",
    "\n",
    "# Example usage\n",
    "video_to_images_ffmpeg(\"video_data/input_vid.mp4\", \"frames\", fps=30)\n"
   ]
  }
 ],
 "metadata": {
  "kernelspec": {
   "display_name": ".venv",
   "language": "python",
   "name": "python3"
  },
  "language_info": {
   "codemirror_mode": {
    "name": "ipython",
    "version": 3
   },
   "file_extension": ".py",
   "mimetype": "text/x-python",
   "name": "python",
   "nbconvert_exporter": "python",
   "pygments_lexer": "ipython3",
   "version": "3.12.2"
  }
 },
 "nbformat": 4,
 "nbformat_minor": 2
}
